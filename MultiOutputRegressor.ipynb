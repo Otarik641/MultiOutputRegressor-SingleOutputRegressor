{
 "cells": [
  {
   "cell_type": "code",
   "execution_count": 2,
   "metadata": {},
   "outputs": [],
   "source": [
    "import numpy as np\n",
    "import pandas as pd\n",
    "import matplotlib.pyplot as plt\n",
    "from sklearn.ensemble import RandomForestRegressor\n",
    "from sklearn.model_selection import train_test_split\n",
    "from sklearn.multioutput import MultiOutputRegressor\n",
    "from sklearn import metrics \n",
    "from sklearn.metrics import accuracy_score"
   ]
  },
  {
   "cell_type": "code",
   "execution_count": 3,
   "metadata": {},
   "outputs": [
    {
     "name": "stdout",
     "output_type": "stream",
     "text": [
      "Index(['Year', 'Years', 'Unit Consumption in MU',\n",
      "       '% increase w.r.t. the previous year', 'Peak Demand in MW',\n",
      "       '% inrease the prevoius year'],\n",
      "      dtype='object')\n"
     ]
    }
   ],
   "source": [
    "data=pd.read_csv(r\"Book.csv\")\n",
    "print(data.columns)"
   ]
  },
  {
   "cell_type": "code",
   "execution_count": 4,
   "metadata": {},
   "outputs": [
    {
     "name": "stdout",
     "output_type": "stream",
     "text": [
      "Index(['Year', 'Years', 'UnitConInMU', 'PerIncWRTTPY', 'PDinMW',\n",
      "       'PIncITPreYr'],\n",
      "      dtype='object')\n"
     ]
    }
   ],
   "source": [
    "data = data.rename(columns={\"Unit Consumption in MU\": \"UnitConInMU\",\n",
    "                   \"% increase w.r.t. the previous year\": \"PerIncWRTTPY\",\n",
    "                   \"Peak Demand in MW\": \"PDinMW\",\"% inrease the prevoius year\":\"PIncITPreYr\"})\n",
    "print(data.columns)"
   ]
  },
  {
   "cell_type": "code",
   "execution_count": 5,
   "metadata": {},
   "outputs": [
    {
     "data": {
      "image/png": "[encoded data removed]",
      "text/plain": [
       "<Figure size 1152x576 with 1 Axes>"
      ]
     },
     "metadata": {
      "needs_background": "light"
     },
     "output_type": "display_data"
    }
   ],
   "source": [
    "plt.figure(figsize=(16, 8))\n",
    "plt.scatter(\n",
    "    data['Year'],\n",
    "    data['UnitConInMU'],\n",
    "    c='orange'\n",
    ")\n",
    "plt.ylabel(\"UnitConInMU\")\n",
    "plt.xlabel(\"Year\")\n",
    "plt.show()"
   ]
  },
  {
   "cell_type": "code",
   "execution_count": 6,
   "metadata": {},
   "outputs": [],
   "source": [
    "X = data[\"Year\"].values.reshape(-1,1)"
   ]
  },
  {
   "cell_type": "code",
   "execution_count": 7,
   "metadata": {},
   "outputs": [],
   "source": [
    "#Y = data.iloc[:, ['UnitConInMU','PDinMW']]\n",
    "Y = data.iloc[:, [2,4]]"
   ]
  },
  {
   "cell_type": "code",
   "execution_count": 8,
   "metadata": {},
   "outputs": [
    {
     "name": "stdout",
     "output_type": "stream",
     "text": [
      "    UnitConInMU  PDinMW\n",
      "0     19666.640    3097\n",
      "1     20384.980    3289\n",
      "2     20810.281    3490\n",
      "3     21184.427    3626\n",
      "4     21977.311    3736\n",
      "5     22580.893    4030\n",
      "6     22313.054    4034\n",
      "7     24124.309    4408\n",
      "8     25667.919    4720\n",
      "9     26617.490    5028\n",
      "10    27234.865    5642\n",
      "11    28029.747    5653\n",
      "12    28963.782    5925\n",
      "13    29415.865    5846\n",
      "14    30790.906    6261\n",
      "15    32009.092    6526\n",
      "16    33370.630    6934\n",
      "17    34700.115    7409\n"
     ]
    }
   ],
   "source": [
    "print(Y)"
   ]
  },
  {
   "cell_type": "code",
   "execution_count": 9,
   "metadata": {},
   "outputs": [],
   "source": [
    "X_train, X_test, y_train, y_test = train_test_split(X, Y, test_size=0.10, random_state=4)"
   ]
  },
  {
   "cell_type": "code",
   "execution_count": 10,
   "metadata": {},
   "outputs": [
    {
     "data": {
      "text/plain": [
       "MultiOutputRegressor(estimator=RandomForestRegressor(bootstrap=True,\n",
       "                                                     criterion='mse',\n",
       "                                                     max_depth=30,\n",
       "                                                     max_features='auto',\n",
       "                                                     max_leaf_nodes=None,\n",
       "                                                     min_impurity_decrease=0.0,\n",
       "                                                     min_impurity_split=None,\n",
       "                                                     min_samples_leaf=1,\n",
       "                                                     min_samples_split=2,\n",
       "                                                     min_weight_fraction_leaf=0.0,\n",
       "                                                     n_estimators=100,\n",
       "                                                     n_jobs=None,\n",
       "                                                     oob_score=False,\n",
       "                                                     random_state=0, verbose=0,\n",
       "                                                     warm_start=False),\n",
       "                     n_jobs=None)"
      ]
     },
     "execution_count": 10,
     "metadata": {},
     "output_type": "execute_result"
    }
   ],
   "source": [
    "max_depth = 30\n",
    "regr_multirf = MultiOutputRegressor(RandomForestRegressor(n_estimators=100,\n",
    "max_depth=max_depth,\n",
    "random_state=0))\n",
    "regr_multirf.fit(X_train, y_train)"
   ]
  },
  {
   "cell_type": "code",
   "execution_count": 11,
   "metadata": {},
   "outputs": [
    {
     "data": {
      "text/plain": [
       "RandomForestRegressor(bootstrap=True, criterion='mse', max_depth=30,\n",
       "                      max_features='auto', max_leaf_nodes=None,\n",
       "                      min_impurity_decrease=0.0, min_impurity_split=None,\n",
       "                      min_samples_leaf=1, min_samples_split=2,\n",
       "                      min_weight_fraction_leaf=0.0, n_estimators=100,\n",
       "                      n_jobs=None, oob_score=False, random_state=2, verbose=0,\n",
       "                      warm_start=False)"
      ]
     },
     "execution_count": 11,
     "metadata": {},
     "output_type": "execute_result"
    }
   ],
   "source": [
    "regr_rf = RandomForestRegressor(n_estimators=100, max_depth=max_depth,\n",
    "random_state=2)\n",
    "regr_rf.fit(X_train, y_train)"
   ]
  },
  {
   "cell_type": "code",
   "execution_count": 12,
   "metadata": {},
   "outputs": [],
   "source": [
    "y_multirf = regr_multirf.predict(X_test)\n",
    "y_rf = regr_rf.predict(X_test)"
   ]
  },
  {
   "cell_type": "code",
   "execution_count": 13,
   "metadata": {},
   "outputs": [
    {
     "name": "stderr",
     "output_type": "stream",
     "text": [
      "/home/wasim/anaconda3/lib/python3.7/site-packages/sklearn/base.py:420: FutureWarning: The default value of multioutput (not exposed in score method) will change from 'variance_weighted' to 'uniform_average' in 0.23 to keep consistent with 'metrics.r2_score'. To specify the default value manually and avoid the warning, please either call 'metrics.r2_score' directly or make a custom scorer with 'metrics.make_scorer' (the built-in scorer 'r2' uses multioutput='uniform_average').\n",
      "  \"multioutput='uniform_average').\", FutureWarning)\n"
     ]
    },
    {
     "data": {
      "image/png": "[encoded data removed]",
      "text/plain": [
       "<Figure size 432x288 with 1 Axes>"
      ]
     },
     "metadata": {
      "needs_background": "light"
     },
     "output_type": "display_data"
    }
   ],
   "source": [
    "plt.figure()\n",
    "s = 50\n",
    "a = 0.6\n",
    "\n",
    "plt.scatter(y_test.iloc[:, 0].values, y_test.iloc[:, 1].values, edgecolor='k',\n",
    "c=\"yellow\", s=s, marker=\"s\", alpha=a, label=\"Data\")\n",
    "\n",
    "plt.scatter(y_multirf[:, 0], y_multirf[:, 1], edgecolor='k',\n",
    "c=\"red\", s=s, alpha=a,\n",
    "label=\"Multi RF score=%.2f\" % regr_multirf.score(X_test, y_test))\n",
    "\n",
    "plt.scatter(y_rf[:, 0], y_rf[:, 1], edgecolor='k',\n",
    "c=\"c\", s=s, marker=\"^\", alpha=a,\n",
    "label=\"RF score=%.2f\" % regr_rf.score(X_test, y_test))\n",
    "\n",
    "plt.xlim([20500, 23400])\n",
    "plt.ylim([3000, 5000])\n",
    "plt.xlabel(\"Unit Consumption in MU\")\n",
    "plt.ylabel(\"Peak Demand in MW\")\n",
    "plt.title(\"Energy consumption prediction of Delhi\")\n",
    "plt.legend()\n",
    "plt.show()"
   ]
  },
  {
   "cell_type": "code",
   "execution_count": 14,
   "metadata": {},
   "outputs": [
    {
     "name": "stdout",
     "output_type": "stream",
     "text": [
      "X_Test\n",
      " [[2008]\n",
      " [2005]]\n",
      "Y_test\n",
      "    UnitConInMU  PDinMW\n",
      "6    22313.054    4034\n",
      "3    21184.427    3626\n",
      "Y_ref\n",
      " [[23002.27284  4127.42   ]\n",
      " [21025.98757  3531.01   ]]\n",
      "Y_multirf\n",
      " [[23193.01793  4170.72   ]\n",
      " [21082.33665  3539.29   ]]\n"
     ]
    }
   ],
   "source": [
    "print(\"X_Test\\n\", X_test)\n",
    "print(\"Y_test\\n\", y_test)\n",
    "print(\"Y_ref\\n\", y_rf)  \n",
    "print(\"Y_multirf\\n\", y_multirf)"
   ]
  },
  {
   "cell_type": "code",
   "execution_count": 70,
   "metadata": {},
   "outputs": [],
   "source": []
  },
  {
   "cell_type": "code",
   "execution_count": 71,
   "metadata": {},
   "outputs": [],
   "source": []
  },
  {
   "cell_type": "code",
   "execution_count": null,
   "metadata": {},
   "outputs": [],
   "source": []
  }
 ],
 "metadata": {
  "kernelspec": {
   "display_name": "Python 3",
   "language": "python",
   "name": "python3"
  },
  "language_info": {
   "codemirror_mode": {
    "name": "ipython",
    "version": 3
   },
   "file_extension": ".py",
   "mimetype": "text/x-python",
   "name": "python",
   "nbconvert_exporter": "python",
   "pygments_lexer": "ipython3",
   "version": "3.7.4"
  }
 },
 "nbformat": 4,
 "nbformat_minor": 2
}
