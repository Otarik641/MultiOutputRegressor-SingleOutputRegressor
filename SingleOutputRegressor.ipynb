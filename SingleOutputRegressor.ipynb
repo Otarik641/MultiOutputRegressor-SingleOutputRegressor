{
 "cells": [
  {
   "cell_type": "code",
   "execution_count": 22,
   "metadata": {},
   "outputs": [],
   "source": [
    "import pandas as pd\n",
    "import numpy as np\n",
    "import matplotlib.pyplot as plt\n",
    "from sklearn import linear_model\n",
    "from sklearn.model_selection import train_test_split\n",
    "from sklearn import metrics \n",
    "from sklearn import preprocessing"
   ]
  },
  {
   "cell_type": "code",
   "execution_count": 23,
   "metadata": {},
   "outputs": [
    {
     "name": "stdout",
     "output_type": "stream",
     "text": [
      "Index(['Year', 'Years', 'Unit Consumption in MU',\n",
      "       '% increase w.r.t. the previous year', 'Peak Demand in MW',\n",
      "       '% inrease the prevoius year'],\n",
      "      dtype='object')\n"
     ]
    }
   ],
   "source": [
    "data=pd.read_csv(r\"Book.csv\")\n",
    "print(data.columns)"
   ]
  },
  {
   "cell_type": "code",
   "execution_count": 24,
   "metadata": {},
   "outputs": [
    {
     "name": "stdout",
     "output_type": "stream",
     "text": [
      "Index(['Year', 'Years', 'UnitConInMU', 'PerIncWRTTPY', 'PDinMW',\n",
      "       'PIncITPreYr'],\n",
      "      dtype='object')\n"
     ]
    }
   ],
   "source": [
    "data = data.rename(columns={\"Unit Consumption in MU\": \"UnitConInMU\",\n",
    "                   \"% increase w.r.t. the previous year\": \"PerIncWRTTPY\",\n",
    "                   \"Peak Demand in MW\": \"PDinMW\",\"% inrease the prevoius year\":\"PIncITPreYr\"})\n",
    "print(data.columns)"
   ]
  },
  {
   "cell_type": "code",
   "execution_count": 25,
   "metadata": {},
   "outputs": [],
   "source": [
    "features=data[\"Year\"].values.reshape(-1,1)"
   ]
  },
  {
   "cell_type": "code",
   "execution_count": 39,
   "metadata": {},
   "outputs": [
    {
     "name": "stdout",
     "output_type": "stream",
     "text": [
      "[2019]\n",
      "[2002]\n"
     ]
    }
   ],
   "source": [
    "max_f = max(features)\n",
    "min_f = min(features)\n",
    "print(max_f)\n",
    "print(min_f)"
   ]
  },
  {
   "cell_type": "code",
   "execution_count": 40,
   "metadata": {},
   "outputs": [
    {
     "name": "stdout",
     "output_type": "stream",
     "text": [
      "[[0.        ]\n",
      " [0.05882353]\n",
      " [0.11764706]\n",
      " [0.17647059]\n",
      " [0.23529412]\n",
      " [0.29411765]\n",
      " [0.35294118]\n",
      " [0.41176471]\n",
      " [0.47058824]\n",
      " [0.52941176]\n",
      " [0.58823529]\n",
      " [0.64705882]\n",
      " [0.70588235]\n",
      " [0.76470588]\n",
      " [0.82352941]\n",
      " [0.88235294]\n",
      " [0.94117647]\n",
      " [1.        ]]\n"
     ]
    }
   ],
   "source": [
    "norm_features = preprocessing.minmax_scale(features)\n",
    "print(norm_features)\n",
    "label=data[\"UnitConInMU\"]"
   ]
  },
  {
   "cell_type": "code",
   "execution_count": 42,
   "metadata": {},
   "outputs": [
    {
     "name": "stdout",
     "output_type": "stream",
     "text": [
      "34700.115\n",
      "19666.64\n"
     ]
    }
   ],
   "source": [
    "max_l = max(label)\n",
    "min_l = min(label)\n",
    "print(max_l)\n",
    "print(min_l)"
   ]
  },
  {
   "cell_type": "code",
   "execution_count": null,
   "metadata": {},
   "outputs": [],
   "source": []
  },
  {
   "cell_type": "code",
   "execution_count": 29,
   "metadata": {},
   "outputs": [
    {
     "data": {
      "image/png": "[encoded data removed]",
      "text/plain": [
       "<Figure size 1152x576 with 1 Axes>"
      ]
     },
     "metadata": {
      "needs_background": "light"
     },
     "output_type": "display_data"
    }
   ],
   "source": [
    "plt.figure(figsize=(16, 8))\n",
    "plt.scatter(\n",
    "    data['Year'],\n",
    "    data['UnitConInMU'],\n",
    "    c='black'\n",
    ")\n",
    "plt.ylabel(\"UnitConInMU\")\n",
    "plt.xlabel(\"Year\")\n",
    "plt.show()"
   ]
  },
  {
   "cell_type": "code",
   "execution_count": 44,
   "metadata": {},
   "outputs": [
    {
     "name": "stdout",
     "output_type": "stream",
     "text": [
      "[0.         0.0477827  0.07607296 0.10096049 0.15370172 0.19385092\n",
      " 0.17603475 0.29651621 0.3991944  0.46235817 0.50342486 0.55629899\n",
      " 0.61842934 0.6485011  0.73996638 0.82099794 0.91156502 1.        ]\n"
     ]
    }
   ],
   "source": [
    "norm_label = preprocessing.minmax_scale(label)\n",
    "print(norm_label)\n"
   ]
  },
  {
   "cell_type": "code",
   "execution_count": 31,
   "metadata": {},
   "outputs": [
    {
     "data": {
      "text/plain": [
       "LinearRegression(copy_X=True, fit_intercept=True, n_jobs=None, normalize=False)"
      ]
     },
     "execution_count": 31,
     "metadata": {},
     "output_type": "execute_result"
    }
   ],
   "source": [
    "x_train, x_test,y_train,y_test=train_test_split(norm_features,norm_label,test_size=0.075,random_state=3)\n",
    "model=linear_model.LinearRegression()\n",
    "model.fit(x_train,y_train)"
   ]
  },
  {
   "cell_type": "code",
   "execution_count": 45,
   "metadata": {},
   "outputs": [
    {
     "name": "stdout",
     "output_type": "stream",
     "text": [
      "2020\n",
      "[34520.53236724]\n",
      "2021\n",
      "[35407.87182586]\n",
      "2022\n",
      "[36295.21128448]\n",
      "2023\n",
      "[37182.5507431]\n",
      "2024\n",
      "[38069.89020172]\n",
      "2025\n",
      "[38957.22966034]\n"
     ]
    },
    {
     "data": {
      "image/png": "[encoded data removed]",
      "text/plain": [
       "<Figure size 432x288 with 1 Axes>"
      ]
     },
     "metadata": {
      "needs_background": "light"
     },
     "output_type": "display_data"
    }
   ],
   "source": [
    "years=[2020,2021,2022,2023,2024,2025]\n",
    "for i in years:\n",
    "    x=i\n",
    "    print(x)\n",
    "    scaled_x = float((x - min_f) / (max_f - min_f))\n",
    "    pvalue=model.predict([[scaled_x]])\n",
    "    \n",
    "    new_p = pvalue*(max_l-min_l) + min_l\n",
    "    y=new_p\n",
    "    print(new_p)\n",
    "    \n",
    "    \n",
    "    plt.scatter(x,y);\n",
    "    plt.bar(x,new_p);\n",
    "    plt.ylabel('unit consumption in MU');\n",
    "    plt.xlabel('upcoming finacial years');\n",
    "    plt.grid(True);\n",
    "    plt.title('next five year energy consumption prediction of Delhi');"
   ]
  },
  {
   "cell_type": "code",
   "execution_count": 46,
   "metadata": {},
   "outputs": [
    {
     "name": "stdout",
     "output_type": "stream",
     "text": [
      "Compared Values::\n",
      "    Actual_Energy  Predcited_predicted\n",
      "0       0.556299             0.574885\n",
      "1       0.076073             0.043667\n"
     ]
    }
   ],
   "source": [
    "y_pred=model.predict(x_test)\n",
    "\n",
    "df=pd.DataFrame({'Actual_Energy':y_test, 'Predcited_predicted':y_pred})\n",
    "print(\"Compared Values::\\n\",df)\n",
    "accuracy=model.score(x_test,y_test)"
   ]
  },
  {
   "cell_type": "code",
   "execution_count": null,
   "metadata": {},
   "outputs": [],
   "source": []
  },
  {
   "cell_type": "markdown",
   "metadata": {},
   "source": [
    "\n",
    "    "
   ]
  },
  {
   "cell_type": "markdown",
   "metadata": {},
   "source": [
    "   "
   ]
  },
  {
   "cell_type": "code",
   "execution_count": 30,
   "metadata": {},
   "outputs": [
    {
     "name": "stdout",
     "output_type": "stream",
     "text": [
      "[0.57488479 0.04366662]\n"
     ]
    },
    {
     "data": {
      "image/png": "[encoded data removed]",
      "text/plain": [
       "<Figure size 1152x576 with 1 Axes>"
      ]
     },
     "metadata": {
      "needs_background": "light"
     },
     "output_type": "display_data"
    }
   ],
   "source": [
    "y_pred1=model.predict(x_test)\n",
    "y_pred2 = np.asarray(y_pred1)\n",
    "print(y_pred2)\n",
    "\n",
    "plt.figure(figsize=(16, 8))\n",
    "plt.scatter(\n",
    "    data['Year'],\n",
    "    data['Unit Consumption in MU'],\n",
    "    c='black'\n",
    ")\n",
    "\n",
    "plt.plot(\n",
    "    y_test,\n",
    "    y_pred2,\n",
    "    c='blue',\n",
    "    linewidth=2\n",
    ")\n",
    "plt.ylabel(\"Unit Consumption in MU\")\n",
    "plt.xlabel(\"Year\")\n",
    "plt.show()\n"
   ]
  },
  {
   "cell_type": "code",
   "execution_count": 31,
   "metadata": {},
   "outputs": [
    {
     "name": "stdout",
     "output_type": "stream",
     "text": [
      "Acccuracy of the model:: 98.78967908950257\n",
      "Mean Absolute Error: 0.025496072185115272\n",
      "Mean Squared Error: 0.0006978015610769306\n",
      "Root Mean Squared Error: 0.026415933848284272\n"
     ]
    },
    {
     "data": {
      "text/plain": [
       "(0, 100)"
      ]
     },
     "execution_count": 31,
     "metadata": {},
     "output_type": "execute_result"
    },
    {
     "data": {
      "image/png": "[encoded data removed]",
      "text/plain": [
       "<Figure size 432x288 with 1 Axes>"
      ]
     },
     "metadata": {
      "needs_background": "light"
     },
     "output_type": "display_data"
    }
   ],
   "source": [
    "print(\"Acccuracy of the model::\",(accuracy*100))\n",
    "print('Mean Absolute Error:', metrics.mean_absolute_error(y_test, y_pred))\n",
    "print('Mean Squared Error:', metrics.mean_squared_error(y_test, y_pred))\n",
    "print('Root Mean Squared Error:', np.sqrt(metrics.mean_squared_error(y_test, y_pred)))\n",
    "plt.show();\n",
    "plt.xlim(0, 100)"
   ]
  },
  {
   "cell_type": "code",
   "execution_count": null,
   "metadata": {},
   "outputs": [],
   "source": []
  },
  {
   "cell_type": "code",
   "execution_count": null,
   "metadata": {},
   "outputs": [],
   "source": []
  }
 ],
 "metadata": {
  "kernelspec": {
   "display_name": "Python 3",
   "language": "python",
   "name": "python3"
  },
  "language_info": {
   "codemirror_mode": {
    "name": "ipython",
    "version": 3
   },
   "file_extension": ".py",
   "mimetype": "text/x-python",
   "name": "python",
   "nbconvert_exporter": "python",
   "pygments_lexer": "ipython3",
   "version": "3.7.4"
  }
 },
 "nbformat": 4,
 "nbformat_minor": 2
}
